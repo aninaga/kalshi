{
 "cells": [
  {
   "cell_type": "markdown",
   "metadata": {},
   "source": [
    "# Kalshi Arbitrage Bot"
   ]
  },
  {
   "cell_type": "markdown",
   "metadata": {},
   "source": [
    "## 1. Setup"
   ]
  },
  {
   "cell_type": "code",
   "execution_count": null,
   "metadata": {},
   "outputs": [],
   "source": [
    "import sys\n!{sys.executable} -m pip install -r requirements.txt"
   ]
  },
  {
   "cell_type": "code",
   "execution_count": null,
   "metadata": {},
   "outputs": [],
   "source": [
    "import asyncio\nfrom kalshi_arbitrage.market_scanner import MarketScanner\nfrom kalshi_arbitrage.arbitrage_calculator import ArbitrageCalculator\nfrom kalshi_arbitrage.trade_simulator import TradeSimulator\nfrom kalshi_arbitrage.config import Config\nimport pandas as pd\nimport matplotlib.pyplot as plt\nimport seaborn as sns"
   ]
  },
  {
   "cell_type": "markdown",
   "metadata": {},
   "source": [
    "## 2. Scan for Opportunities"
   ]
  },
  {
   "cell_type": "code",
   "execution_count": null,
   "metadata": {},
   "outputs": [],
   "source": [
    "async def main():\n",
    "    scanner = MarketScanner()\n",
    "    matched_markets = await scanner.scan()\n",
    "    \n",
    "    if matched_markets:\n",
    "        calculator = ArbitrageCalculator()\n",
    "        opportunities = calculator.find_opportunities(matched_markets)\n",
    "        \n",
    "        if opportunities:\n",
    "            print(f'Found {len(opportunities)} arbitrage opportunities.')\n",
    "            return opportunities\n",
    "        else:\n",
    "            print('No arbitrage opportunities found.')\n",
    "            return []\n",
    "    else:\n",
    "        print('No matched markets found.')\n",
    "        return []\n",
    "\n",
    "opportunities = await main()"
   ]
  },
  {
   "cell_type": "markdown",
   "metadata": {},
   "source": [
    "## 3. Simulate Trades"
   ]
  },
  {
   "cell_type": "code",
   "execution_count": null,
   "metadata": {},
   "outputs": [],
   "source": [
    "if opportunities:\n",
    "    simulator = TradeSimulator(initial_balance=Config.INITIAL_BALANCE)\n",
    "    best_opportunity = opportunities[0]\n",
    "    simulator.execute_trade(best_opportunity, size=50)\n",
    "    \n",
    "    summary = simulator.get_portfolio_summary()\n",
    "    print(summary)"
   ]
  },
  {
   "cell_type": "markdown",
   "metadata": {},
   "source": [
    "## 4. Visualize Results"
   ]
  },
  {
   "cell_type": "code",
   "execution_count": null,
   "metadata": {},
   "outputs": [],
   "source": [
    "if opportunities:\n",
    "    profits = [opp['net_profit'] * 100 for opp in opportunities]\n",
    "    strategies = [opp['strategy'] for opp in opportunities]\n",
    "\n",
    "    plt.figure(figsize=(10, 6))\n",
    "    sns.barplot(x=strategies, y=profits)\n",
    "    plt.ylabel('Net Profit (%)')\n",
    "    plt.title('Arbitrage Opportunities')\n",
    "    plt.xticks(rotation=45)\n",
    "    plt.show()"
   ]
  }
 ],
 "metadata": {
  "kernelspec": {
   "display_name": "Python 3",
   "language": "python",
   "name": "python3"
  },
  "language_info": {
   "name": "python",
   "version": "3.9.7"
  }
 },
 "nbformat": 4,
 "nbformat_minor": 4
}
